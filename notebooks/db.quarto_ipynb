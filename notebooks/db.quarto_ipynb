{
  "cells": [
    {
      "cell_type": "markdown",
      "metadata": {},
      "source": [
        "---\n",
        "title: \"database\"\n",
        "format:\n",
        "  html:\n",
        "    code-fold: true\n",
        "jupyter: python3\n",
        "---"
      ],
      "id": "82f84daf"
    },
    {
      "cell_type": "code",
      "metadata": {},
      "source": [
        "import os\n",
        "os.chdir(\"..\")\n",
        "print(os.getcwd())"
      ],
      "id": "88c6f521",
      "execution_count": null,
      "outputs": []
    },
    {
      "cell_type": "code",
      "metadata": {},
      "source": [
        "import pandas as pd\n",
        "from sqlalchemy import create_engine\n",
        "from dotenv import load_dotenv\n",
        "\n",
        "load_dotenv()"
      ],
      "id": "259c2615",
      "execution_count": null,
      "outputs": []
    },
    {
      "cell_type": "code",
      "metadata": {},
      "source": [
        "df = pd.read_csv(\"data/external/INDICADORES ECÓNOMICOS/ENCUESTA DE ESTABLECIMIENTO/Actividades Financieras.csv\")\n",
        "df"
      ],
      "id": "3ecc2fef",
      "execution_count": null,
      "outputs": []
    },
    {
      "cell_type": "code",
      "metadata": {},
      "source": [
        "main = pd.DataFrame(columns = ['Meses', \"index\", \"year\"]) \n",
        "\n",
        "for column in df.columns:\n",
        "  if column == \"Meses\":\n",
        "    continue\n",
        "  tmp = df[[\"Meses\", column]].rename(columns={column:path.split(\"/\")[-1][:-4]})\n",
        "  tmp[\"year\"] = column\n",
        "  main = pd.concat([main, tmp], axis=0)\n",
        "main.sort_values(by=[\"year\", \"Meses\"])"
      ],
      "id": "02a3444b",
      "execution_count": null,
      "outputs": []
    },
    {
      "cell_type": "markdown",
      "metadata": {},
      "source": [
        "path = \"data/external/INDICADORES ECÓNOMICOS/ENCUESTA DE ESTABLECIMIENTO/Actividades Financieras.csv\"\n",
        "path.split(\"/\")[-1][:-4]"
      ],
      "id": "2c0118fc"
    }
  ],
  "metadata": {
    "kernelspec": {
      "display_name": "Python 3",
      "language": "python",
      "name": "python3"
    }
  },
  "nbformat": 4,
  "nbformat_minor": 5
}